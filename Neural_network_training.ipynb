{
  "nbformat": 4,
  "nbformat_minor": 0,
  "metadata": {
    "colab": {
      "name": "Neural_network_training.ipynb",
      "provenance": []
    },
    "kernelspec": {
      "name": "python3",
      "display_name": "Python 3"
    },
    "language_info": {
      "name": "python"
    },
    "accelerator": "GPU"
  },
  "cells": [
    {
      "cell_type": "code",
      "execution_count": null,
      "metadata": {
        "id": "7q-gb03hpHww",
        "colab": {
          "base_uri": "https://localhost:8080/"
        },
        "outputId": "8b12411d-6f4f-4501-ddb3-b269cdb508ca"
      },
      "outputs": [
        {
          "output_type": "stream",
          "name": "stdout",
          "text": [
            "Mounted at /content/drive\n"
          ]
        }
      ],
      "source": [
        "from google.colab import drive\n",
        "drive.mount('/content/drive')"
      ]
    },
    {
      "cell_type": "code",
      "source": [
        "% cd drive/MyDrive    "
      ],
      "metadata": {
        "colab": {
          "base_uri": "https://localhost:8080/"
        },
        "id": "AnRUksDbp2Ln",
        "outputId": "73d0b526-a750-45ee-ebac-593542e0a1af"
      },
      "execution_count": null,
      "outputs": [
        {
          "output_type": "stream",
          "name": "stdout",
          "text": [
            "/content/drive/MyDrive\n"
          ]
        }
      ]
    },
    {
      "cell_type": "code",
      "source": [
        "\n",
        "import pandas as pd\n",
        " \n",
        "df = pd.read_csv(\"data.csv\")\n"
      ],
      "metadata": {
        "id": "JPdmbmh8qEB-"
      },
      "execution_count": null,
      "outputs": []
    },
    {
      "cell_type": "code",
      "source": [
        "len(df)"
      ],
      "metadata": {
        "colab": {
          "base_uri": "https://localhost:8080/"
        },
        "id": "fXm2w3Y7qiaD",
        "outputId": "14f10223-bd3c-4a80-b6fc-0fe7cb04f2a0"
      },
      "execution_count": null,
      "outputs": [
        {
          "output_type": "execute_result",
          "data": {
            "text/plain": [
              "4964"
            ]
          },
          "metadata": {},
          "execution_count": 5
        }
      ]
    },
    {
      "cell_type": "code",
      "source": [
        "df\n"
      ],
      "metadata": {
        "colab": {
          "base_uri": "https://localhost:8080/",
          "height": 592
        },
        "id": "NQJAc2PzquA9",
        "outputId": "1d9b6bae-be7f-4644-f94b-da8568d81d99"
      },
      "execution_count": null,
      "outputs": [
        {
          "output_type": "execute_result",
          "data": {
            "text/plain": [
              "     url1_lang url2_lang                pair_id  \\\n",
              "0           en        en  1484084337_1484110209   \n",
              "1           en        en  1484396422_1483924666   \n",
              "2           en        en  1484698254_1483758694   \n",
              "3           en        en  1576314516_1576455088   \n",
              "4           en        en  1484036253_1483894099   \n",
              "...        ...       ...                    ...   \n",
              "4959        tr        tr  1586195445_1598778991   \n",
              "4960        tr        tr  1590915424_1590940388   \n",
              "4961        tr        tr  1526157103_1492737005   \n",
              "4962        tr        tr  1603274500_1618292937   \n",
              "4963        tr        tr  1597247537_1604202164   \n",
              "\n",
              "                                                  link1  \\\n",
              "0     https://www.washingtonpost.com/local/virginia-...   \n",
              "1     https://www.stlucianewsonline.com/guyana-three...   \n",
              "2     https://www.teaparty.org/trump-brings-in-2020-...   \n",
              "3     https://gadgets.ndtv.com/apps/news/zomato-uber...   \n",
              "4     https://news.yahoo.com/india-approves-third-mo...   \n",
              "...                                                 ...   \n",
              "4959  http://www.haberler.com/bm-aden-de-2-bini-aski...   \n",
              "4960  https://www.haberler.com/kovid-19-dan-dolayi-l...   \n",
              "4961  http://www.samanyoluhaber.com/saray-da-care-ol...   \n",
              "4962  https://www.haberler.com/ergene-belediyesi-yol...   \n",
              "4963  https://www.takvim.com.tr/guncel/2020/05/05/gr...   \n",
              "\n",
              "                                                  link2  \\\n",
              "0     https://www.washingtonpost.com/world/the_ameri...   \n",
              "1     https://www.thestar.com/news/world/europe/2020...   \n",
              "2     https://www.timesofisrael.com/trump-says-he-do...   \n",
              "3     https://gadgets.ndtv.com/internet/news/indian-...   \n",
              "4     https://www.channelnewsasia.com/news/asia/indi...   \n",
              "...                                                 ...   \n",
              "4959  https://www.haberler.com/bm-den-yemen-de-kadin...   \n",
              "4960  https://www.aksam.com.tr/spor/fabio-capello-ko...   \n",
              "4961  https://www.fotomac.com.tr/besiktas/2020/01/12...   \n",
              "4962  https://www.haberler.com/ergene-de-ahimehmet-v...   \n",
              "4963  https://www.yeniasir.com.tr/izmir/2020/05/12/s...   \n",
              "\n",
              "                                               ia_link1  \\\n",
              "0     https://web.archive.org/web/www.washingtonpost...   \n",
              "1     https://web.archive.org/web/www.stlucianewsonl...   \n",
              "2     https://web.archive.org/web/www.teaparty.org/t...   \n",
              "3     https://web.archive.org/web/gadgets.ndtv.com/a...   \n",
              "4     https://web.archive.org/web/news.yahoo.com/ind...   \n",
              "...                                                 ...   \n",
              "4959  https://web.archive.org/web/www.haberler.com/b...   \n",
              "4960  https://web.archive.org/web/www.haberler.com/k...   \n",
              "4961  https://web.archive.org/web/www.samanyoluhaber...   \n",
              "4962  https://web.archive.org/web/www.haberler.com/e...   \n",
              "4963  https://web.archive.org/web/www.takvim.com.tr/...   \n",
              "\n",
              "                                               ia_link2  Geography  Entities  \\\n",
              "0     https://web.archive.org/web/www.washingtonpost...        4.0  4.000000   \n",
              "1     https://web.archive.org/web/www.thestar.com/ne...        4.0  4.000000   \n",
              "2     https://web.archive.org/web/www.timesofisrael....        1.0  2.000000   \n",
              "3     https://web.archive.org/web/gadgets.ndtv.com/i...        1.0  2.333333   \n",
              "4     https://web.archive.org/web/www.channelnewsasi...        1.0  1.250000   \n",
              "...                                                 ...        ...       ...   \n",
              "4959  https://web.archive.org/web/www.haberler.com/b...        1.0  2.000000   \n",
              "4960  https://web.archive.org/web/www.aksam.com.tr/s...        1.0  1.000000   \n",
              "4961  https://web.archive.org/web/www.fotomac.com.tr...        1.0  2.000000   \n",
              "4962  https://web.archive.org/web/www.haberler.com/e...        1.0  2.000000   \n",
              "4963  https://web.archive.org/web/www.yeniasir.com.t...        2.0  2.000000   \n",
              "\n",
              "          Time  Narrative   Overall     Style      Tone  \n",
              "0     1.000000   4.000000  4.000000  1.666667  2.000000  \n",
              "1     1.000000   4.000000  3.666667  1.666667  1.333333  \n",
              "2     1.000000   2.333333  2.333333  1.000000  1.333333  \n",
              "3     2.666667   1.666667  2.000000  1.666667  1.666667  \n",
              "4     1.000000   1.250000  1.250000  1.000000  1.000000  \n",
              "...        ...        ...       ...       ...       ...  \n",
              "4959  2.000000   4.000000  3.000000  1.000000  1.000000  \n",
              "4960  1.000000   1.000000  1.000000  1.000000  1.000000  \n",
              "4961  3.000000   4.000000  3.000000  1.000000  2.000000  \n",
              "4962  3.000000   3.000000  3.000000  1.000000  1.000000  \n",
              "4963  1.000000   2.000000  2.000000  3.000000  1.000000  \n",
              "\n",
              "[4964 rows x 14 columns]"
            ],
            "text/html": [
              "\n",
              "  <div id=\"df-f7fbdd89-f396-4de0-82e9-b1a628b28c15\">\n",
              "    <div class=\"colab-df-container\">\n",
              "      <div>\n",
              "<style scoped>\n",
              "    .dataframe tbody tr th:only-of-type {\n",
              "        vertical-align: middle;\n",
              "    }\n",
              "\n",
              "    .dataframe tbody tr th {\n",
              "        vertical-align: top;\n",
              "    }\n",
              "\n",
              "    .dataframe thead th {\n",
              "        text-align: right;\n",
              "    }\n",
              "</style>\n",
              "<table border=\"1\" class=\"dataframe\">\n",
              "  <thead>\n",
              "    <tr style=\"text-align: right;\">\n",
              "      <th></th>\n",
              "      <th>url1_lang</th>\n",
              "      <th>url2_lang</th>\n",
              "      <th>pair_id</th>\n",
              "      <th>link1</th>\n",
              "      <th>link2</th>\n",
              "      <th>ia_link1</th>\n",
              "      <th>ia_link2</th>\n",
              "      <th>Geography</th>\n",
              "      <th>Entities</th>\n",
              "      <th>Time</th>\n",
              "      <th>Narrative</th>\n",
              "      <th>Overall</th>\n",
              "      <th>Style</th>\n",
              "      <th>Tone</th>\n",
              "    </tr>\n",
              "  </thead>\n",
              "  <tbody>\n",
              "    <tr>\n",
              "      <th>0</th>\n",
              "      <td>en</td>\n",
              "      <td>en</td>\n",
              "      <td>1484084337_1484110209</td>\n",
              "      <td>https://www.washingtonpost.com/local/virginia-...</td>\n",
              "      <td>https://www.washingtonpost.com/world/the_ameri...</td>\n",
              "      <td>https://web.archive.org/web/www.washingtonpost...</td>\n",
              "      <td>https://web.archive.org/web/www.washingtonpost...</td>\n",
              "      <td>4.0</td>\n",
              "      <td>4.000000</td>\n",
              "      <td>1.000000</td>\n",
              "      <td>4.000000</td>\n",
              "      <td>4.000000</td>\n",
              "      <td>1.666667</td>\n",
              "      <td>2.000000</td>\n",
              "    </tr>\n",
              "    <tr>\n",
              "      <th>1</th>\n",
              "      <td>en</td>\n",
              "      <td>en</td>\n",
              "      <td>1484396422_1483924666</td>\n",
              "      <td>https://www.stlucianewsonline.com/guyana-three...</td>\n",
              "      <td>https://www.thestar.com/news/world/europe/2020...</td>\n",
              "      <td>https://web.archive.org/web/www.stlucianewsonl...</td>\n",
              "      <td>https://web.archive.org/web/www.thestar.com/ne...</td>\n",
              "      <td>4.0</td>\n",
              "      <td>4.000000</td>\n",
              "      <td>1.000000</td>\n",
              "      <td>4.000000</td>\n",
              "      <td>3.666667</td>\n",
              "      <td>1.666667</td>\n",
              "      <td>1.333333</td>\n",
              "    </tr>\n",
              "    <tr>\n",
              "      <th>2</th>\n",
              "      <td>en</td>\n",
              "      <td>en</td>\n",
              "      <td>1484698254_1483758694</td>\n",
              "      <td>https://www.teaparty.org/trump-brings-in-2020-...</td>\n",
              "      <td>https://www.timesofisrael.com/trump-says-he-do...</td>\n",
              "      <td>https://web.archive.org/web/www.teaparty.org/t...</td>\n",
              "      <td>https://web.archive.org/web/www.timesofisrael....</td>\n",
              "      <td>1.0</td>\n",
              "      <td>2.000000</td>\n",
              "      <td>1.000000</td>\n",
              "      <td>2.333333</td>\n",
              "      <td>2.333333</td>\n",
              "      <td>1.000000</td>\n",
              "      <td>1.333333</td>\n",
              "    </tr>\n",
              "    <tr>\n",
              "      <th>3</th>\n",
              "      <td>en</td>\n",
              "      <td>en</td>\n",
              "      <td>1576314516_1576455088</td>\n",
              "      <td>https://gadgets.ndtv.com/apps/news/zomato-uber...</td>\n",
              "      <td>https://gadgets.ndtv.com/internet/news/indian-...</td>\n",
              "      <td>https://web.archive.org/web/gadgets.ndtv.com/a...</td>\n",
              "      <td>https://web.archive.org/web/gadgets.ndtv.com/i...</td>\n",
              "      <td>1.0</td>\n",
              "      <td>2.333333</td>\n",
              "      <td>2.666667</td>\n",
              "      <td>1.666667</td>\n",
              "      <td>2.000000</td>\n",
              "      <td>1.666667</td>\n",
              "      <td>1.666667</td>\n",
              "    </tr>\n",
              "    <tr>\n",
              "      <th>4</th>\n",
              "      <td>en</td>\n",
              "      <td>en</td>\n",
              "      <td>1484036253_1483894099</td>\n",
              "      <td>https://news.yahoo.com/india-approves-third-mo...</td>\n",
              "      <td>https://www.channelnewsasia.com/news/asia/indi...</td>\n",
              "      <td>https://web.archive.org/web/news.yahoo.com/ind...</td>\n",
              "      <td>https://web.archive.org/web/www.channelnewsasi...</td>\n",
              "      <td>1.0</td>\n",
              "      <td>1.250000</td>\n",
              "      <td>1.000000</td>\n",
              "      <td>1.250000</td>\n",
              "      <td>1.250000</td>\n",
              "      <td>1.000000</td>\n",
              "      <td>1.000000</td>\n",
              "    </tr>\n",
              "    <tr>\n",
              "      <th>...</th>\n",
              "      <td>...</td>\n",
              "      <td>...</td>\n",
              "      <td>...</td>\n",
              "      <td>...</td>\n",
              "      <td>...</td>\n",
              "      <td>...</td>\n",
              "      <td>...</td>\n",
              "      <td>...</td>\n",
              "      <td>...</td>\n",
              "      <td>...</td>\n",
              "      <td>...</td>\n",
              "      <td>...</td>\n",
              "      <td>...</td>\n",
              "      <td>...</td>\n",
              "    </tr>\n",
              "    <tr>\n",
              "      <th>4959</th>\n",
              "      <td>tr</td>\n",
              "      <td>tr</td>\n",
              "      <td>1586195445_1598778991</td>\n",
              "      <td>http://www.haberler.com/bm-aden-de-2-bini-aski...</td>\n",
              "      <td>https://www.haberler.com/bm-den-yemen-de-kadin...</td>\n",
              "      <td>https://web.archive.org/web/www.haberler.com/b...</td>\n",
              "      <td>https://web.archive.org/web/www.haberler.com/b...</td>\n",
              "      <td>1.0</td>\n",
              "      <td>2.000000</td>\n",
              "      <td>2.000000</td>\n",
              "      <td>4.000000</td>\n",
              "      <td>3.000000</td>\n",
              "      <td>1.000000</td>\n",
              "      <td>1.000000</td>\n",
              "    </tr>\n",
              "    <tr>\n",
              "      <th>4960</th>\n",
              "      <td>tr</td>\n",
              "      <td>tr</td>\n",
              "      <td>1590915424_1590940388</td>\n",
              "      <td>https://www.haberler.com/kovid-19-dan-dolayi-l...</td>\n",
              "      <td>https://www.aksam.com.tr/spor/fabio-capello-ko...</td>\n",
              "      <td>https://web.archive.org/web/www.haberler.com/k...</td>\n",
              "      <td>https://web.archive.org/web/www.aksam.com.tr/s...</td>\n",
              "      <td>1.0</td>\n",
              "      <td>1.000000</td>\n",
              "      <td>1.000000</td>\n",
              "      <td>1.000000</td>\n",
              "      <td>1.000000</td>\n",
              "      <td>1.000000</td>\n",
              "      <td>1.000000</td>\n",
              "    </tr>\n",
              "    <tr>\n",
              "      <th>4961</th>\n",
              "      <td>tr</td>\n",
              "      <td>tr</td>\n",
              "      <td>1526157103_1492737005</td>\n",
              "      <td>http://www.samanyoluhaber.com/saray-da-care-ol...</td>\n",
              "      <td>https://www.fotomac.com.tr/besiktas/2020/01/12...</td>\n",
              "      <td>https://web.archive.org/web/www.samanyoluhaber...</td>\n",
              "      <td>https://web.archive.org/web/www.fotomac.com.tr...</td>\n",
              "      <td>1.0</td>\n",
              "      <td>2.000000</td>\n",
              "      <td>3.000000</td>\n",
              "      <td>4.000000</td>\n",
              "      <td>3.000000</td>\n",
              "      <td>1.000000</td>\n",
              "      <td>2.000000</td>\n",
              "    </tr>\n",
              "    <tr>\n",
              "      <th>4962</th>\n",
              "      <td>tr</td>\n",
              "      <td>tr</td>\n",
              "      <td>1603274500_1618292937</td>\n",
              "      <td>https://www.haberler.com/ergene-belediyesi-yol...</td>\n",
              "      <td>https://www.haberler.com/ergene-de-ahimehmet-v...</td>\n",
              "      <td>https://web.archive.org/web/www.haberler.com/e...</td>\n",
              "      <td>https://web.archive.org/web/www.haberler.com/e...</td>\n",
              "      <td>1.0</td>\n",
              "      <td>2.000000</td>\n",
              "      <td>3.000000</td>\n",
              "      <td>3.000000</td>\n",
              "      <td>3.000000</td>\n",
              "      <td>1.000000</td>\n",
              "      <td>1.000000</td>\n",
              "    </tr>\n",
              "    <tr>\n",
              "      <th>4963</th>\n",
              "      <td>tr</td>\n",
              "      <td>tr</td>\n",
              "      <td>1597247537_1604202164</td>\n",
              "      <td>https://www.takvim.com.tr/guncel/2020/05/05/gr...</td>\n",
              "      <td>https://www.yeniasir.com.tr/izmir/2020/05/12/s...</td>\n",
              "      <td>https://web.archive.org/web/www.takvim.com.tr/...</td>\n",
              "      <td>https://web.archive.org/web/www.yeniasir.com.t...</td>\n",
              "      <td>2.0</td>\n",
              "      <td>2.000000</td>\n",
              "      <td>1.000000</td>\n",
              "      <td>2.000000</td>\n",
              "      <td>2.000000</td>\n",
              "      <td>3.000000</td>\n",
              "      <td>1.000000</td>\n",
              "    </tr>\n",
              "  </tbody>\n",
              "</table>\n",
              "<p>4964 rows × 14 columns</p>\n",
              "</div>\n",
              "      <button class=\"colab-df-convert\" onclick=\"convertToInteractive('df-f7fbdd89-f396-4de0-82e9-b1a628b28c15')\"\n",
              "              title=\"Convert this dataframe to an interactive table.\"\n",
              "              style=\"display:none;\">\n",
              "        \n",
              "  <svg xmlns=\"http://www.w3.org/2000/svg\" height=\"24px\"viewBox=\"0 0 24 24\"\n",
              "       width=\"24px\">\n",
              "    <path d=\"M0 0h24v24H0V0z\" fill=\"none\"/>\n",
              "    <path d=\"M18.56 5.44l.94 2.06.94-2.06 2.06-.94-2.06-.94-.94-2.06-.94 2.06-2.06.94zm-11 1L8.5 8.5l.94-2.06 2.06-.94-2.06-.94L8.5 2.5l-.94 2.06-2.06.94zm10 10l.94 2.06.94-2.06 2.06-.94-2.06-.94-.94-2.06-.94 2.06-2.06.94z\"/><path d=\"M17.41 7.96l-1.37-1.37c-.4-.4-.92-.59-1.43-.59-.52 0-1.04.2-1.43.59L10.3 9.45l-7.72 7.72c-.78.78-.78 2.05 0 2.83L4 21.41c.39.39.9.59 1.41.59.51 0 1.02-.2 1.41-.59l7.78-7.78 2.81-2.81c.8-.78.8-2.07 0-2.86zM5.41 20L4 18.59l7.72-7.72 1.47 1.35L5.41 20z\"/>\n",
              "  </svg>\n",
              "      </button>\n",
              "      \n",
              "  <style>\n",
              "    .colab-df-container {\n",
              "      display:flex;\n",
              "      flex-wrap:wrap;\n",
              "      gap: 12px;\n",
              "    }\n",
              "\n",
              "    .colab-df-convert {\n",
              "      background-color: #E8F0FE;\n",
              "      border: none;\n",
              "      border-radius: 50%;\n",
              "      cursor: pointer;\n",
              "      display: none;\n",
              "      fill: #1967D2;\n",
              "      height: 32px;\n",
              "      padding: 0 0 0 0;\n",
              "      width: 32px;\n",
              "    }\n",
              "\n",
              "    .colab-df-convert:hover {\n",
              "      background-color: #E2EBFA;\n",
              "      box-shadow: 0px 1px 2px rgba(60, 64, 67, 0.3), 0px 1px 3px 1px rgba(60, 64, 67, 0.15);\n",
              "      fill: #174EA6;\n",
              "    }\n",
              "\n",
              "    [theme=dark] .colab-df-convert {\n",
              "      background-color: #3B4455;\n",
              "      fill: #D2E3FC;\n",
              "    }\n",
              "\n",
              "    [theme=dark] .colab-df-convert:hover {\n",
              "      background-color: #434B5C;\n",
              "      box-shadow: 0px 1px 3px 1px rgba(0, 0, 0, 0.15);\n",
              "      filter: drop-shadow(0px 1px 2px rgba(0, 0, 0, 0.3));\n",
              "      fill: #FFFFFF;\n",
              "    }\n",
              "  </style>\n",
              "\n",
              "      <script>\n",
              "        const buttonEl =\n",
              "          document.querySelector('#df-f7fbdd89-f396-4de0-82e9-b1a628b28c15 button.colab-df-convert');\n",
              "        buttonEl.style.display =\n",
              "          google.colab.kernel.accessAllowed ? 'block' : 'none';\n",
              "\n",
              "        async function convertToInteractive(key) {\n",
              "          const element = document.querySelector('#df-f7fbdd89-f396-4de0-82e9-b1a628b28c15');\n",
              "          const dataTable =\n",
              "            await google.colab.kernel.invokeFunction('convertToInteractive',\n",
              "                                                     [key], {});\n",
              "          if (!dataTable) return;\n",
              "\n",
              "          const docLinkHtml = 'Like what you see? Visit the ' +\n",
              "            '<a target=\"_blank\" href=https://colab.research.google.com/notebooks/data_table.ipynb>data table notebook</a>'\n",
              "            + ' to learn more about interactive tables.';\n",
              "          element.innerHTML = '';\n",
              "          dataTable['output_type'] = 'display_data';\n",
              "          await google.colab.output.renderOutput(dataTable, element);\n",
              "          const docLink = document.createElement('div');\n",
              "          docLink.innerHTML = docLinkHtml;\n",
              "          element.appendChild(docLink);\n",
              "        }\n",
              "      </script>\n",
              "    </div>\n",
              "  </div>\n",
              "  "
            ]
          },
          "metadata": {},
          "execution_count": 6
        }
      ]
    },
    {
      "cell_type": "code",
      "source": [
        "import numpy as np\n",
        "data = np.array(df['Geography']).reshape(-1,1)\n",
        "data = np.append(data,np.array(df['Entities']).reshape(-1,1),axis = 1)\n",
        "data = np.append(data,np.array(df['Time']).reshape(-1,1),axis = 1)\n",
        "data = np.append(data,np.array(df['Narrative']).reshape(-1,1),axis = 1)\n",
        "data = np.append(data,np.array(df['Style']).reshape(-1,1),axis = 1)\n",
        "data = np.append(data,np.array(df['Tone']).reshape(-1,1),axis = 1)\n"
      ],
      "metadata": {
        "id": "a_hR4NprsKNx"
      },
      "execution_count": null,
      "outputs": []
    },
    {
      "cell_type": "code",
      "source": [
        "data = (data - 1)/3\n"
      ],
      "metadata": {
        "id": "Yh0rXJH1QpUT"
      },
      "execution_count": null,
      "outputs": []
    },
    {
      "cell_type": "code",
      "source": [
        "np.shape(data)\n",
        "data"
      ],
      "metadata": {
        "colab": {
          "base_uri": "https://localhost:8080/"
        },
        "id": "RkFlhHhus7po",
        "outputId": "0763676e-e4ff-4725-9102-e64083b20fea"
      },
      "execution_count": null,
      "outputs": [
        {
          "output_type": "execute_result",
          "data": {
            "text/plain": [
              "array([[1.        , 1.        , 0.        , 1.        , 0.22222222,\n",
              "        0.33333333],\n",
              "       [1.        , 1.        , 0.        , 1.        , 0.22222222,\n",
              "        0.11111111],\n",
              "       [0.        , 0.33333333, 0.        , 0.44444444, 0.        ,\n",
              "        0.11111111],\n",
              "       ...,\n",
              "       [0.        , 0.33333333, 0.66666667, 1.        , 0.        ,\n",
              "        0.33333333],\n",
              "       [0.        , 0.33333333, 0.66666667, 0.66666667, 0.        ,\n",
              "        0.        ],\n",
              "       [0.33333333, 0.33333333, 0.        , 0.33333333, 0.66666667,\n",
              "        0.        ]])"
            ]
          },
          "metadata": {},
          "execution_count": 9
        }
      ]
    },
    {
      "cell_type": "code",
      "source": [
        "label = np.array(df['Overall']).reshape(-1,1)\n",
        "label = label.reshape(-1,)\n",
        "label = (label - 1)/3"
      ],
      "metadata": {
        "id": "Lt3R00rstOm5"
      },
      "execution_count": null,
      "outputs": []
    },
    {
      "cell_type": "code",
      "source": [
        "from sklearn.model_selection import train_test_split\n",
        "X_train, X_test, y_train, y_test = train_test_split(data, label, test_size=0.20)"
      ],
      "metadata": {
        "id": "PjP0lHLvet16"
      },
      "execution_count": null,
      "outputs": []
    },
    {
      "cell_type": "code",
      "source": [
        "import torch as T\n",
        "class Net(T.nn.Module):\n",
        "  def __init__(self):\n",
        "    super(Net, self).__init__()\n",
        "    self.hid1 = T.nn.Linear(6, 10)  # 8-(10-10)-1\n",
        "    self.hid2 = T.nn.Linear(10, 10)\n",
        "    self.oupt = T.nn.Linear(10, 1)\n",
        "\n",
        "    T.nn.init.xavier_uniform_(self.hid1.weight)\n",
        "    T.nn.init.zeros_(self.hid1.bias)\n",
        "    T.nn.init.xavier_uniform_(self.hid2.weight)\n",
        "    T.nn.init.zeros_(self.hid2.bias)\n",
        "    T.nn.init.xavier_uniform_(self.oupt.weight)\n",
        "    T.nn.init.zeros_(self.oupt.bias)\n",
        "\n",
        "  def forward(self, x):\n",
        "    z = T.relu(self.hid1(x))\n",
        "    z = T.relu(self.hid2(z))\n",
        "    z = self.oupt(z)  # no activation\n",
        "    return z"
      ],
      "metadata": {
        "id": "hIniRm9Ht5n-"
      },
      "execution_count": null,
      "outputs": []
    },
    {
      "cell_type": "code",
      "source": [
        "mlp = Net()\n"
      ],
      "metadata": {
        "id": "ZfvdkpfCHlvC"
      },
      "execution_count": null,
      "outputs": []
    },
    {
      "cell_type": "code",
      "source": [
        "\n",
        "  \n",
        "# Define the loss function and optimizer\n",
        "loss_function = T.nn.MSELoss()\n",
        "optimizer = T.optim.Adam(mlp.parameters(), lr=1e-5)\n",
        "  \n",
        "  # Run the training loop\n",
        "for epoch in range(0, 100): # 5 epochs at maximum\n",
        "    \n",
        "    # Print epoch\n",
        "  print(f'Starting epoch {epoch+1}')\n",
        "    \n",
        "    # Set current loss value\n",
        "  current_loss = 0.0\n",
        "    \n",
        "    # Iterate over the DataLoader for training data\n",
        "  for i in range(len(X_train)):\n",
        "      \n",
        "      # Get and prepare inputs\n",
        "    inputs = T.tensor((X_train[i:i+1,:]).astype(np.float32))\n",
        "    targets = T.tensor((y_train[i]).astype(np.float32))\n",
        "      \n",
        "      # Zero the gradients\n",
        "    optimizer.zero_grad()\n",
        "      \n",
        "      # Perform forward pass\n",
        "    outputs = mlp(inputs)\n",
        "      \n",
        "      # Compute loss\n",
        "    loss = loss_function(outputs, targets)\n",
        "      \n",
        "      # Perform backward pass\n",
        "    loss.backward()\n",
        "      \n",
        "      # Perform optimization\n",
        "    optimizer.step()\n",
        "      \n",
        "      # Print statistics\n",
        "    current_loss += loss.item()\n",
        "      \n",
        "    \n",
        "  print(current_loss / len(X_train)) \n",
        "\n",
        "  # Process is complete.\n",
        "print('Training process has finished.')"
      ],
      "metadata": {
        "colab": {
          "base_uri": "https://localhost:8080/"
        },
        "id": "2t5ayUssHeN7",
        "outputId": "30c350c4-ccf3-4779-b330-ba6890bf3536"
      },
      "execution_count": null,
      "outputs": [
        {
          "output_type": "stream",
          "name": "stdout",
          "text": [
            "Starting epoch 1\n"
          ]
        },
        {
          "output_type": "stream",
          "name": "stderr",
          "text": [
            "/usr/local/lib/python3.7/dist-packages/torch/nn/modules/loss.py:520: UserWarning: Using a target size (torch.Size([])) that is different to the input size (torch.Size([1, 1])). This will likely lead to incorrect results due to broadcasting. Please ensure they have the same size.\n",
            "  return F.mse_loss(input, target, reduction=self.reduction)\n"
          ]
        },
        {
          "output_type": "stream",
          "name": "stdout",
          "text": [
            "0.02163469070745417\n",
            "Starting epoch 2\n",
            "0.02157753350076403\n",
            "Starting epoch 3\n",
            "0.021534595556441424\n",
            "Starting epoch 4\n",
            "0.02149775617101359\n",
            "Starting epoch 5\n",
            "0.02146470734710536\n",
            "Starting epoch 6\n",
            "0.021434609406352154\n",
            "Starting epoch 7\n",
            "0.02140677887016221\n",
            "Starting epoch 8\n",
            "0.021380878818276022\n",
            "Starting epoch 9\n",
            "0.021356725018160543\n",
            "Starting epoch 10\n",
            "0.021334059812490723\n",
            "Starting epoch 11\n",
            "0.021312573955525424\n",
            "Starting epoch 12\n",
            "0.021292241579860906\n",
            "Starting epoch 13\n",
            "0.021272909094165328\n",
            "Starting epoch 14\n",
            "0.021254474325022022\n",
            "Starting epoch 15\n",
            "0.021236827859725724\n",
            "Starting epoch 16\n",
            "0.021219891163197408\n",
            "Starting epoch 17\n",
            "0.02120358445809507\n",
            "Starting epoch 18\n",
            "0.02118786043359441\n",
            "Starting epoch 19\n",
            "0.02117269033579061\n",
            "Starting epoch 20\n",
            "0.021158019635123468\n",
            "Starting epoch 21\n",
            "0.021143803927813547\n",
            "Starting epoch 22\n",
            "0.021130016624862982\n",
            "Starting epoch 23\n",
            "0.021116629780108843\n",
            "Starting epoch 24\n",
            "0.021103620062810143\n",
            "Starting epoch 25\n",
            "0.02109097296118201\n",
            "Starting epoch 26\n",
            "0.021078675876502796\n",
            "Starting epoch 27\n",
            "0.021066709378728996\n",
            "Starting epoch 28\n",
            "0.021055046429697372\n",
            "Starting epoch 29\n",
            "0.02104368022553667\n",
            "Starting epoch 30\n",
            "0.0210325971030991\n",
            "Starting epoch 31\n",
            "0.02102178540980236\n",
            "Starting epoch 32\n",
            "0.021011190850026916\n",
            "Starting epoch 33\n",
            "0.02100084060398773\n",
            "Starting epoch 34\n",
            "0.020990736602462957\n",
            "Starting epoch 35\n",
            "0.020980832522860118\n",
            "Starting epoch 36\n",
            "0.02097114528889255\n",
            "Starting epoch 37\n",
            "0.020961617219106762\n",
            "Starting epoch 38\n",
            "0.0209522700268252\n",
            "Starting epoch 39\n",
            "0.02094314719175777\n",
            "Starting epoch 40\n",
            "0.02093408150982169\n",
            "Starting epoch 41\n",
            "0.02092516383717994\n",
            "Starting epoch 42\n",
            "0.020916422213058665\n",
            "Starting epoch 43\n",
            "0.02090790934118309\n",
            "Starting epoch 44\n",
            "0.02089917497715793\n",
            "Starting epoch 45\n",
            "0.02089061724778274\n",
            "Starting epoch 46\n",
            "0.020882095904794673\n",
            "Starting epoch 47\n",
            "0.020873752967003577\n",
            "Starting epoch 48\n",
            "0.020865581831903245\n",
            "Starting epoch 49\n",
            "0.02085758827438564\n",
            "Starting epoch 50\n",
            "0.020849745984876825\n",
            "Starting epoch 51\n",
            "0.02084205323533815\n",
            "Starting epoch 52\n",
            "0.02083448011305451\n",
            "Starting epoch 53\n",
            "0.02082689266802658\n",
            "Starting epoch 54\n",
            "0.020819437574980858\n",
            "Starting epoch 55\n",
            "0.020812110001236107\n",
            "Starting epoch 56\n",
            "0.02080494089305964\n",
            "Starting epoch 57\n",
            "0.0207977632365476\n",
            "Starting epoch 58\n",
            "0.020790646695320086\n",
            "Starting epoch 59\n",
            "0.020783578841070696\n",
            "Starting epoch 60\n",
            "0.020776621445964205\n",
            "Starting epoch 61\n",
            "0.020769759572526376\n",
            "Starting epoch 62\n",
            "0.020763076744743057\n",
            "Starting epoch 63\n",
            "0.020756590680626585\n",
            "Starting epoch 64\n",
            "0.020750181124486632\n",
            "Starting epoch 65\n",
            "0.02074382797723913\n",
            "Starting epoch 66\n",
            "0.020737557844768335\n",
            "Starting epoch 67\n",
            "0.02073139550079299\n",
            "Starting epoch 68\n",
            "0.02072530492000117\n",
            "Starting epoch 69\n",
            "0.02071932349717726\n",
            "Starting epoch 70\n",
            "0.020713434991236446\n",
            "Starting epoch 71\n",
            "0.020707618968213666\n",
            "Starting epoch 72\n",
            "0.020701734361466162\n",
            "Starting epoch 73\n",
            "0.020695738191248574\n",
            "Starting epoch 74\n",
            "0.020689573598290493\n",
            "Starting epoch 75\n",
            "0.020683519187363046\n",
            "Starting epoch 76\n",
            "0.020677520820610192\n",
            "Starting epoch 77\n",
            "0.02067162892563777\n",
            "Starting epoch 78\n",
            "0.020665580017154513\n",
            "Starting epoch 79\n",
            "0.02065950721731005\n",
            "Starting epoch 80\n",
            "0.020653510938603185\n",
            "Starting epoch 81\n",
            "0.020647705943692328\n",
            "Starting epoch 82\n",
            "0.020642290491154753\n",
            "Starting epoch 83\n",
            "0.020636904733431872\n",
            "Starting epoch 84\n",
            "0.020631368211240435\n",
            "Starting epoch 85\n",
            "0.02062606166081246\n",
            "Starting epoch 86\n",
            "0.020620958453361947\n",
            "Starting epoch 87\n",
            "0.02061595774562439\n",
            "Starting epoch 88\n",
            "0.020610911867006896\n",
            "Starting epoch 89\n",
            "0.020605932753178013\n",
            "Starting epoch 90\n",
            "0.02060102925235762\n",
            "Starting epoch 91\n",
            "0.02059626611610381\n",
            "Starting epoch 92\n",
            "0.020591647439893588\n",
            "Starting epoch 93\n",
            "0.020587168631247866\n",
            "Starting epoch 94\n",
            "0.02058277466193646\n",
            "Starting epoch 95\n",
            "0.02057846574380117\n",
            "Starting epoch 96\n",
            "0.020574221263788744\n",
            "Starting epoch 97\n",
            "0.020570038325095966\n",
            "Starting epoch 98\n",
            "0.020565949915418595\n",
            "Starting epoch 99\n",
            "0.02056191681638189\n",
            "Starting epoch 100\n",
            "0.020557945155149634\n",
            "Training process has finished.\n"
          ]
        }
      ]
    },
    {
      "cell_type": "code",
      "source": [
        "#Saving the model \n",
        "import pickle\n",
        "with open('NN_model', 'wb') as files:\n",
        "    pickle.dump(mlp, files)"
      ],
      "metadata": {
        "id": "1Q1S_X9Sk3gu"
      },
      "execution_count": null,
      "outputs": []
    },
    {
      "cell_type": "code",
      "source": [
        "#Testing \n",
        "mlp(T.tensor((data[19:20,:]).astype(np.float32)))"
      ],
      "metadata": {
        "colab": {
          "base_uri": "https://localhost:8080/"
        },
        "id": "QfbiTHfnMS40",
        "outputId": "a45cc14e-8132-4b93-9dc2-824bbc0a529f"
      },
      "execution_count": null,
      "outputs": [
        {
          "output_type": "execute_result",
          "data": {
            "text/plain": [
              "tensor([[-0.1208]], grad_fn=<AddmmBackward0>)"
            ]
          },
          "metadata": {},
          "execution_count": 80
        }
      ]
    },
    {
      "cell_type": "code",
      "source": [
        "#Testing\n",
        "\n",
        "test_pred = mlp(T.tensor(X_test.astype(np.float32)))\n",
        "loss_f = T.nn.MSELoss()\n",
        "loss = 0\n",
        "for i in range(len(test_pred)):\n",
        "    loss = loss + loss_f(test_pred[i],T.tensor(y_test[i])).item()\n",
        "\n",
        "print(loss/len(test_pred))"
      ],
      "metadata": {
        "colab": {
          "base_uri": "https://localhost:8080/"
        },
        "id": "5ZlkwstTfyYn",
        "outputId": "067af867-5f49-4815-fbf8-28160556d024"
      },
      "execution_count": null,
      "outputs": [
        {
          "output_type": "stream",
          "name": "stdout",
          "text": [
            "0.02237902697198646\n"
          ]
        },
        {
          "output_type": "stream",
          "name": "stderr",
          "text": [
            "/usr/local/lib/python3.7/dist-packages/torch/nn/modules/loss.py:520: UserWarning: Using a target size (torch.Size([])) that is different to the input size (torch.Size([1])). This will likely lead to incorrect results due to broadcasting. Please ensure they have the same size.\n",
            "  return F.mse_loss(input, target, reduction=self.reduction)\n"
          ]
        }
      ]
    },
    {
      "cell_type": "code",
      "source": [
        "#Evaluation \n",
        "\n",
        "df = pd.read_csv(\"final_evaluation_data.csv\")\n",
        "eval = np.array(df['GEO']).reshape(-1,1)\n",
        "eval = np.append(eval,np.array(df['ENT']).reshape(-1,1),axis = 1)\n",
        "eval = np.append(eval,np.array(df['TIME']).reshape(-1,1),axis = 1)\n",
        "eval = np.append(eval,np.array(df['NAR']).reshape(-1,1),axis = 1)\n",
        "eval = np.append(eval,np.array(df['STYLE']).reshape(-1,1),axis = 1)\n",
        "eval = np.append(eval,np.array(df['TONE']).reshape(-1,1),axis = 1)\n",
        "eval = (eval - 1)/3\n",
        "label = np.array(df['Overall']).reshape(-1,1)\n",
        "label = label.reshape(-1,)\n",
        "label = (label-1)/3"
      ],
      "metadata": {
        "id": "coSP-RMnOcZC"
      },
      "execution_count": null,
      "outputs": []
    },
    {
      "cell_type": "code",
      "source": [
        "pred = mlp(T.tensor(eval.astype(np.float32)))"
      ],
      "metadata": {
        "id": "GgOUlw1WPK5H"
      },
      "execution_count": null,
      "outputs": []
    },
    {
      "cell_type": "code",
      "source": [
        "pred"
      ],
      "metadata": {
        "colab": {
          "base_uri": "https://localhost:8080/"
        },
        "id": "g8BlhOZaRgkV",
        "outputId": "ab545a12-e337-44cd-8abf-3efd3fc568b4"
      },
      "execution_count": null,
      "outputs": [
        {
          "output_type": "execute_result",
          "data": {
            "text/plain": [
              "tensor([[0.9726],\n",
              "        [0.1007],\n",
              "        [0.9726],\n",
              "        ...,\n",
              "        [0.9726],\n",
              "        [0.0821],\n",
              "        [0.1769]], grad_fn=<AddmmBackward0>)"
            ]
          },
          "metadata": {},
          "execution_count": 114
        }
      ]
    },
    {
      "cell_type": "code",
      "source": [
        "loss_f = T.nn.MSELoss()\n",
        "loss = 0\n",
        "for i in range(len(pred)):\n",
        "    loss = loss + loss_f(pred[i],T.tensor(label[i])).item()\n",
        "\n",
        "print(loss/len(pred))"
      ],
      "metadata": {
        "colab": {
          "base_uri": "https://localhost:8080/"
        },
        "id": "o-DvrjymP8vo",
        "outputId": "2f46cc57-e458-4dde-b876-3ed515efff1f"
      },
      "execution_count": null,
      "outputs": [
        {
          "output_type": "stream",
          "name": "stderr",
          "text": [
            "/usr/local/lib/python3.7/dist-packages/torch/nn/modules/loss.py:520: UserWarning: Using a target size (torch.Size([])) that is different to the input size (torch.Size([1])). This will likely lead to incorrect results due to broadcasting. Please ensure they have the same size.\n",
            "  return F.mse_loss(input, target, reduction=self.reduction)\n"
          ]
        },
        {
          "output_type": "stream",
          "name": "stdout",
          "text": [
            "0.025681582775023897\n"
          ]
        }
      ]
    }
  ]
}